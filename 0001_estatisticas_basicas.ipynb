{
  "nbformat": 4,
  "nbformat_minor": 0,
  "metadata": {
    "kernelspec": {
      "display_name": "Python 3",
      "language": "python",
      "name": "python3"
    },
    "language_info": {
      "codemirror_mode": {
        "name": "ipython",
        "version": 3
      },
      "file_extension": ".py",
      "mimetype": "text/x-python",
      "name": "python",
      "nbconvert_exporter": "python",
      "pygments_lexer": "ipython3",
      "version": "3.7.6"
    },
    "colab": {
      "name": "0001_estatisticas_basicas.ipynb",
      "provenance": [],
      "include_colab_link": true
    }
  },
  "cells": [
    {
      "cell_type": "markdown",
      "metadata": {
        "id": "view-in-github",
        "colab_type": "text"
      },
      "source": [
        "<a href=\"https://colab.research.google.com/github/julianovale/lean_6_sigma_python/blob/master/0001_estatisticas_basicas.ipynb\" target=\"_parent\"><img src=\"https://colab.research.google.com/assets/colab-badge.svg\" alt=\"Open In Colab\"/></a>"
      ]
    },
    {
      "cell_type": "markdown",
      "metadata": {
        "id": "-rBdq39QgoHy",
        "colab_type": "text"
      },
      "source": [
        "#  Importando as bibliotecas necessárias"
      ]
    },
    {
      "cell_type": "code",
      "metadata": {
        "id": "Y8760eN2goH1",
        "colab_type": "code",
        "colab": {}
      },
      "source": [
        "import numpy as np\n",
        "import pandas as pd\n",
        "import matplotlib.pyplot as plt\n",
        "import seaborn as sns\n",
        "import scipy.stats as st\n",
        "\n",
        "%matplotlib inline\n",
        "sns.set(color_codes = True)"
      ],
      "execution_count": 5,
      "outputs": []
    },
    {
      "cell_type": "markdown",
      "metadata": {
        "id": "12vKuwvjgoIB",
        "colab_type": "text"
      },
      "source": [
        "# Importando base de dados\n",
        "Lembre-se: se você copiar o endereço pelo \"explorer\", inverta as barras para \"/\""
      ]
    },
    {
      "cell_type": "code",
      "metadata": {
        "id": "q2sjXGlYgoIC",
        "colab_type": "code",
        "colab": {}
      },
      "source": [
        "CS = pd.read_excel(\"https://github.com/julianovale/lean_6_sigma_python/blob/master/descstats.xlsx?raw=true\")"
      ],
      "execution_count": 6,
      "outputs": []
    },
    {
      "cell_type": "code",
      "metadata": {
        "id": "cs9Tz9Y7goIH",
        "colab_type": "code",
        "colab": {
          "base_uri": "https://localhost:8080/",
          "height": 204
        },
        "outputId": "258a124d-cfc9-4b25-ecd1-fc4944ad1b65"
      },
      "source": [
        "CS.head()"
      ],
      "execution_count": 7,
      "outputs": [
        {
          "output_type": "execute_result",
          "data": {
            "text/html": [
              "<div>\n",
              "<style scoped>\n",
              "    .dataframe tbody tr th:only-of-type {\n",
              "        vertical-align: middle;\n",
              "    }\n",
              "\n",
              "    .dataframe tbody tr th {\n",
              "        vertical-align: top;\n",
              "    }\n",
              "\n",
              "    .dataframe thead th {\n",
              "        text-align: right;\n",
              "    }\n",
              "</style>\n",
              "<table border=\"1\" class=\"dataframe\">\n",
              "  <thead>\n",
              "    <tr style=\"text-align: right;\">\n",
              "      <th></th>\n",
              "      <th>Sample 1</th>\n",
              "      <th>Sample 2</th>\n",
              "      <th>Group</th>\n",
              "      <th>Unnamed: 3</th>\n",
              "      <th>Unnamed: 4</th>\n",
              "      <th>Unnamed: 5</th>\n",
              "      <th>Unnamed: 6</th>\n",
              "    </tr>\n",
              "  </thead>\n",
              "  <tbody>\n",
              "    <tr>\n",
              "      <th>0</th>\n",
              "      <td>28.686942</td>\n",
              "      <td>0.627870</td>\n",
              "      <td>A</td>\n",
              "      <td>NaN</td>\n",
              "      <td>NaN</td>\n",
              "      <td>NaN</td>\n",
              "      <td>NaN</td>\n",
              "    </tr>\n",
              "    <tr>\n",
              "      <th>1</th>\n",
              "      <td>30.811276</td>\n",
              "      <td>50.558054</td>\n",
              "      <td>A</td>\n",
              "      <td>NaN</td>\n",
              "      <td>NaN</td>\n",
              "      <td>NaN</td>\n",
              "      <td>NaN</td>\n",
              "    </tr>\n",
              "    <tr>\n",
              "      <th>2</th>\n",
              "      <td>28.477675</td>\n",
              "      <td>54.593256</td>\n",
              "      <td>A</td>\n",
              "      <td>NaN</td>\n",
              "      <td>NaN</td>\n",
              "      <td>NaN</td>\n",
              "      <td>NaN</td>\n",
              "    </tr>\n",
              "    <tr>\n",
              "      <th>3</th>\n",
              "      <td>31.689752</td>\n",
              "      <td>19.613195</td>\n",
              "      <td>A</td>\n",
              "      <td>NaN</td>\n",
              "      <td>NaN</td>\n",
              "      <td>NaN</td>\n",
              "      <td>NaN</td>\n",
              "    </tr>\n",
              "    <tr>\n",
              "      <th>4</th>\n",
              "      <td>31.132768</td>\n",
              "      <td>48.658675</td>\n",
              "      <td>A</td>\n",
              "      <td>NaN</td>\n",
              "      <td>NaN</td>\n",
              "      <td>NaN</td>\n",
              "      <td>NaN</td>\n",
              "    </tr>\n",
              "  </tbody>\n",
              "</table>\n",
              "</div>"
            ],
            "text/plain": [
              "    Sample 1   Sample 2 Group  Unnamed: 3  Unnamed: 4  Unnamed: 5  Unnamed: 6\n",
              "0  28.686942   0.627870     A         NaN         NaN         NaN         NaN\n",
              "1  30.811276  50.558054     A         NaN         NaN         NaN         NaN\n",
              "2  28.477675  54.593256     A         NaN         NaN         NaN         NaN\n",
              "3  31.689752  19.613195     A         NaN         NaN         NaN         NaN\n",
              "4  31.132768  48.658675     A         NaN         NaN         NaN         NaN"
            ]
          },
          "metadata": {
            "tags": []
          },
          "execution_count": 7
        }
      ]
    },
    {
      "cell_type": "markdown",
      "metadata": {
        "id": "ITU-nL8agoIN",
        "colab_type": "text"
      },
      "source": [
        "# Limpando células nulas"
      ]
    },
    {
      "cell_type": "code",
      "metadata": {
        "id": "VHUZVKHZgoIO",
        "colab_type": "code",
        "colab": {
          "base_uri": "https://localhost:8080/",
          "height": 419
        },
        "outputId": "7a31045c-5028-41be-8696-8ab437d99e30"
      },
      "source": [
        "CS = CS.dropna(axis = 1)\n",
        "CS"
      ],
      "execution_count": 8,
      "outputs": [
        {
          "output_type": "execute_result",
          "data": {
            "text/html": [
              "<div>\n",
              "<style scoped>\n",
              "    .dataframe tbody tr th:only-of-type {\n",
              "        vertical-align: middle;\n",
              "    }\n",
              "\n",
              "    .dataframe tbody tr th {\n",
              "        vertical-align: top;\n",
              "    }\n",
              "\n",
              "    .dataframe thead th {\n",
              "        text-align: right;\n",
              "    }\n",
              "</style>\n",
              "<table border=\"1\" class=\"dataframe\">\n",
              "  <thead>\n",
              "    <tr style=\"text-align: right;\">\n",
              "      <th></th>\n",
              "      <th>Sample 1</th>\n",
              "      <th>Sample 2</th>\n",
              "      <th>Group</th>\n",
              "    </tr>\n",
              "  </thead>\n",
              "  <tbody>\n",
              "    <tr>\n",
              "      <th>0</th>\n",
              "      <td>28.686942</td>\n",
              "      <td>0.627870</td>\n",
              "      <td>A</td>\n",
              "    </tr>\n",
              "    <tr>\n",
              "      <th>1</th>\n",
              "      <td>30.811276</td>\n",
              "      <td>50.558054</td>\n",
              "      <td>A</td>\n",
              "    </tr>\n",
              "    <tr>\n",
              "      <th>2</th>\n",
              "      <td>28.477675</td>\n",
              "      <td>54.593256</td>\n",
              "      <td>A</td>\n",
              "    </tr>\n",
              "    <tr>\n",
              "      <th>3</th>\n",
              "      <td>31.689752</td>\n",
              "      <td>19.613195</td>\n",
              "      <td>A</td>\n",
              "    </tr>\n",
              "    <tr>\n",
              "      <th>4</th>\n",
              "      <td>31.132768</td>\n",
              "      <td>48.658675</td>\n",
              "      <td>A</td>\n",
              "    </tr>\n",
              "    <tr>\n",
              "      <th>...</th>\n",
              "      <td>...</td>\n",
              "      <td>...</td>\n",
              "      <td>...</td>\n",
              "    </tr>\n",
              "    <tr>\n",
              "      <th>995</th>\n",
              "      <td>29.546067</td>\n",
              "      <td>62.619949</td>\n",
              "      <td>B</td>\n",
              "    </tr>\n",
              "    <tr>\n",
              "      <th>996</th>\n",
              "      <td>30.514726</td>\n",
              "      <td>23.321762</td>\n",
              "      <td>B</td>\n",
              "    </tr>\n",
              "    <tr>\n",
              "      <th>997</th>\n",
              "      <td>31.437504</td>\n",
              "      <td>38.541026</td>\n",
              "      <td>B</td>\n",
              "    </tr>\n",
              "    <tr>\n",
              "      <th>998</th>\n",
              "      <td>29.978933</td>\n",
              "      <td>50.801932</td>\n",
              "      <td>B</td>\n",
              "    </tr>\n",
              "    <tr>\n",
              "      <th>999</th>\n",
              "      <td>28.558277</td>\n",
              "      <td>70.464254</td>\n",
              "      <td>B</td>\n",
              "    </tr>\n",
              "  </tbody>\n",
              "</table>\n",
              "<p>1000 rows × 3 columns</p>\n",
              "</div>"
            ],
            "text/plain": [
              "      Sample 1   Sample 2 Group\n",
              "0    28.686942   0.627870     A\n",
              "1    30.811276  50.558054     A\n",
              "2    28.477675  54.593256     A\n",
              "3    31.689752  19.613195     A\n",
              "4    31.132768  48.658675     A\n",
              "..         ...        ...   ...\n",
              "995  29.546067  62.619949     B\n",
              "996  30.514726  23.321762     B\n",
              "997  31.437504  38.541026     B\n",
              "998  29.978933  50.801932     B\n",
              "999  28.558277  70.464254     B\n",
              "\n",
              "[1000 rows x 3 columns]"
            ]
          },
          "metadata": {
            "tags": []
          },
          "execution_count": 8
        }
      ]
    },
    {
      "cell_type": "markdown",
      "metadata": {
        "id": "zVNPWyKQgoIW",
        "colab_type": "text"
      },
      "source": [
        "# Obtendo as estatísticas descritivas"
      ]
    },
    {
      "cell_type": "code",
      "metadata": {
        "id": "p9VgI8HHgoIX",
        "colab_type": "code",
        "colab": {
          "base_uri": "https://localhost:8080/",
          "height": 297
        },
        "outputId": "f8977403-9691-4728-9d6f-11bc37615eb1"
      },
      "source": [
        "CS.describe()"
      ],
      "execution_count": 9,
      "outputs": [
        {
          "output_type": "execute_result",
          "data": {
            "text/html": [
              "<div>\n",
              "<style scoped>\n",
              "    .dataframe tbody tr th:only-of-type {\n",
              "        vertical-align: middle;\n",
              "    }\n",
              "\n",
              "    .dataframe tbody tr th {\n",
              "        vertical-align: top;\n",
              "    }\n",
              "\n",
              "    .dataframe thead th {\n",
              "        text-align: right;\n",
              "    }\n",
              "</style>\n",
              "<table border=\"1\" class=\"dataframe\">\n",
              "  <thead>\n",
              "    <tr style=\"text-align: right;\">\n",
              "      <th></th>\n",
              "      <th>Sample 1</th>\n",
              "      <th>Sample 2</th>\n",
              "    </tr>\n",
              "  </thead>\n",
              "  <tbody>\n",
              "    <tr>\n",
              "      <th>count</th>\n",
              "      <td>1000.000000</td>\n",
              "      <td>1000.000000</td>\n",
              "    </tr>\n",
              "    <tr>\n",
              "      <th>mean</th>\n",
              "      <td>30.012077</td>\n",
              "      <td>30.233962</td>\n",
              "    </tr>\n",
              "    <tr>\n",
              "      <th>std</th>\n",
              "      <td>1.041527</td>\n",
              "      <td>29.067057</td>\n",
              "    </tr>\n",
              "    <tr>\n",
              "      <th>min</th>\n",
              "      <td>26.160543</td>\n",
              "      <td>0.154764</td>\n",
              "    </tr>\n",
              "    <tr>\n",
              "      <th>25%</th>\n",
              "      <td>29.314089</td>\n",
              "      <td>8.721795</td>\n",
              "    </tr>\n",
              "    <tr>\n",
              "      <th>50%</th>\n",
              "      <td>30.014408</td>\n",
              "      <td>20.740185</td>\n",
              "    </tr>\n",
              "    <tr>\n",
              "      <th>75%</th>\n",
              "      <td>30.730071</td>\n",
              "      <td>43.013396</td>\n",
              "    </tr>\n",
              "    <tr>\n",
              "      <th>max</th>\n",
              "      <td>33.757718</td>\n",
              "      <td>194.102611</td>\n",
              "    </tr>\n",
              "  </tbody>\n",
              "</table>\n",
              "</div>"
            ],
            "text/plain": [
              "          Sample 1     Sample 2\n",
              "count  1000.000000  1000.000000\n",
              "mean     30.012077    30.233962\n",
              "std       1.041527    29.067057\n",
              "min      26.160543     0.154764\n",
              "25%      29.314089     8.721795\n",
              "50%      30.014408    20.740185\n",
              "75%      30.730071    43.013396\n",
              "max      33.757718   194.102611"
            ]
          },
          "metadata": {
            "tags": []
          },
          "execution_count": 9
        }
      ]
    },
    {
      "cell_type": "markdown",
      "metadata": {
        "id": "6O2kujaZgoIc",
        "colab_type": "text"
      },
      "source": [
        "# Teste de normalidade\n",
        "## Assimetria (Skewness) e Curtose (Kurtosis)\n",
        "\n",
        "### Skewness \n",
        "— A measure of the symmetry of a distribution. A positive value indicates\n",
        "that the distribution has a greater tendency to tail to the right (positively skewed\n",
        "or skewed to the right), and a negative value indicates a greater tendency of the\n",
        "distribution to tail to the left (negatively skewed or skewed to the left). Skewness\n",
        "is 0 for a normal distribution.\n",
        "\n",
        "### Kurtosis \n",
        "— A measure of the shape of a distribution. A positive value indicates that the\n",
        "distribution has longer tails than the normal distribution (platykurtosis); while a\n",
        "negative value indicates that the distribution has shorter tails (leptokurtosis). For\n",
        "the normal distribution, the kurtosis is 0.\n",
        "___\n",
        "\n",
        "Veja isso: https://support.minitab.com/pt-br/minitab/19/help-and-how-to/statistics/basic-statistics/supporting-topics/data-concepts/how-skewness-and-kurtosis-affect-your-distribution/"
      ]
    },
    {
      "cell_type": "code",
      "metadata": {
        "id": "Hg4ulyuggoId",
        "colab_type": "code",
        "colab": {
          "base_uri": "https://localhost:8080/",
          "height": 68
        },
        "outputId": "5ed3cb3b-e473-439a-b118-d0a4e1494f4b"
      },
      "source": [
        "CS.skew() #todas as colunas"
      ],
      "execution_count": 10,
      "outputs": [
        {
          "output_type": "execute_result",
          "data": {
            "text/plain": [
              "Sample 1    0.029793\n",
              "Sample 2    1.701568\n",
              "dtype: float64"
            ]
          },
          "metadata": {
            "tags": []
          },
          "execution_count": 10
        }
      ]
    },
    {
      "cell_type": "code",
      "metadata": {
        "id": "oKM4zTTJgoIi",
        "colab_type": "code",
        "colab": {
          "base_uri": "https://localhost:8080/",
          "height": 34
        },
        "outputId": "2ab0e210-87bb-4fc4-e00e-d2429e181a98"
      },
      "source": [
        "CS['Sample 1'].skew() #uma coluna"
      ],
      "execution_count": 11,
      "outputs": [
        {
          "output_type": "execute_result",
          "data": {
            "text/plain": [
              "0.02979292669727891"
            ]
          },
          "metadata": {
            "tags": []
          },
          "execution_count": 11
        }
      ]
    },
    {
      "cell_type": "code",
      "metadata": {
        "id": "mDR6FI4xgoIm",
        "colab_type": "code",
        "colab": {
          "base_uri": "https://localhost:8080/",
          "height": 68
        },
        "outputId": "f01409e5-6148-408f-be4a-bc845d247083"
      },
      "source": [
        "CS.kurt()"
      ],
      "execution_count": 12,
      "outputs": [
        {
          "output_type": "execute_result",
          "data": {
            "text/plain": [
              "Sample 1    0.093034\n",
              "Sample 2    3.714773\n",
              "dtype: float64"
            ]
          },
          "metadata": {
            "tags": []
          },
          "execution_count": 12
        }
      ]
    },
    {
      "cell_type": "code",
      "metadata": {
        "id": "WB5OUlFVgoIq",
        "colab_type": "code",
        "colab": {
          "base_uri": "https://localhost:8080/",
          "height": 34
        },
        "outputId": "ccbf8a36-2bc0-48a6-c8af-5f297f4fea7c"
      },
      "source": [
        "CS['Sample 2'].kurt()"
      ],
      "execution_count": 13,
      "outputs": [
        {
          "output_type": "execute_result",
          "data": {
            "text/plain": [
              "3.7147728707394"
            ]
          },
          "metadata": {
            "tags": []
          },
          "execution_count": 13
        }
      ]
    },
    {
      "cell_type": "markdown",
      "metadata": {
        "id": "XOffFCwMgoIv",
        "colab_type": "text"
      },
      "source": [
        "# Plotando histogramas\n",
        "## Histogramas do Seaborn"
      ]
    },
    {
      "cell_type": "code",
      "metadata": {
        "id": "fkaegPGjgoIv",
        "colab_type": "code",
        "colab": {
          "base_uri": "https://localhost:8080/",
          "height": 302
        },
        "outputId": "6e98c88a-b3e4-47a1-8474-dcffa687e1b2"
      },
      "source": [
        "sns.distplot(CS['Sample 1'])"
      ],
      "execution_count": 14,
      "outputs": [
        {
          "output_type": "execute_result",
          "data": {
            "text/plain": [
              "<matplotlib.axes._subplots.AxesSubplot at 0x7f4949832b00>"
            ]
          },
          "metadata": {
            "tags": []
          },
          "execution_count": 14
        },
        {
          "output_type": "display_data",
          "data": {
            "image/png": "[encoded data removed]",
            "text/plain": [
              "<Figure size 432x288 with 1 Axes>"
            ]
          },
          "metadata": {
            "tags": []
          }
        }
      ]
    },
    {
      "cell_type": "code",
      "metadata": {
        "id": "56NH7BzCgoIz",
        "colab_type": "code",
        "colab": {
          "base_uri": "https://localhost:8080/",
          "height": 302
        },
        "outputId": "886b8515-c014-4bbb-91a9-8bd18578dd50"
      },
      "source": [
        "sns.distplot(CS['Sample 1'], kde = 0)"
      ],
      "execution_count": 15,
      "outputs": [
        {
          "output_type": "execute_result",
          "data": {
            "text/plain": [
              "<matplotlib.axes._subplots.AxesSubplot at 0x7f4949740f60>"
            ]
          },
          "metadata": {
            "tags": []
          },
          "execution_count": 15
        },
        {
          "output_type": "display_data",
          "data": {
            "image/png": "[encoded data removed]",
            "text/plain": [
              "<Figure size 432x288 with 1 Axes>"
            ]
          },
          "metadata": {
            "tags": []
          }
        }
      ]
    },
    {
      "cell_type": "code",
      "metadata": {
        "id": "EN-iRt9dgoI6",
        "colab_type": "code",
        "colab": {
          "base_uri": "https://localhost:8080/",
          "height": 303
        },
        "outputId": "1da9a5d5-5178-4b5b-bfb1-12dd5cffc03b"
      },
      "source": [
        "sns.distplot(CS['Sample 2'])"
      ],
      "execution_count": 16,
      "outputs": [
        {
          "output_type": "execute_result",
          "data": {
            "text/plain": [
              "<matplotlib.axes._subplots.AxesSubplot at 0x7f49491d4940>"
            ]
          },
          "metadata": {
            "tags": []
          },
          "execution_count": 16
        },
        {
          "output_type": "display_data",
          "data": {
            "image/png": "[encoded data removed]",
            "text/plain": [
              "<Figure size 432x288 with 1 Axes>"
            ]
          },
          "metadata": {
            "tags": []
          }
        }
      ]
    },
    {
      "cell_type": "code",
      "metadata": {
        "id": "JVeNJOSPgoI-",
        "colab_type": "code",
        "colab": {
          "base_uri": "https://localhost:8080/",
          "height": 302
        },
        "outputId": "4747edf2-a541-4a60-dd3b-c025e67c2b3e"
      },
      "source": [
        "sns.distplot(CS['Sample 2'], kde = False)"
      ],
      "execution_count": 17,
      "outputs": [
        {
          "output_type": "execute_result",
          "data": {
            "text/plain": [
              "<matplotlib.axes._subplots.AxesSubplot at 0x7f4949186710>"
            ]
          },
          "metadata": {
            "tags": []
          },
          "execution_count": 17
        },
        {
          "output_type": "display_data",
          "data": {
            "image/png": "[encoded data removed]",
            "text/plain": [
              "<Figure size 432x288 with 1 Axes>"
            ]
          },
          "metadata": {
            "tags": []
          }
        }
      ]
    },
    {
      "cell_type": "code",
      "metadata": {
        "id": "PLfRBWg6goJC",
        "colab_type": "code",
        "colab": {
          "base_uri": "https://localhost:8080/",
          "height": 302
        },
        "outputId": "7d70e679-b8b3-4c14-e131-bf144b4706fa"
      },
      "source": [
        "sns.distplot(CS['Sample 2'], hist = False)"
      ],
      "execution_count": 18,
      "outputs": [
        {
          "output_type": "execute_result",
          "data": {
            "text/plain": [
              "<matplotlib.axes._subplots.AxesSubplot at 0x7f49490b9208>"
            ]
          },
          "metadata": {
            "tags": []
          },
          "execution_count": 18
        },
        {
          "output_type": "display_data",
          "data": {
            "image/png": "[encoded data removed]",
            "text/plain": [
              "<Figure size 432x288 with 1 Axes>"
            ]
          },
          "metadata": {
            "tags": []
          }
        }
      ]
    },
    {
      "cell_type": "code",
      "metadata": {
        "id": "FaxasYzrgoJG",
        "colab_type": "code",
        "colab": {
          "base_uri": "https://localhost:8080/",
          "height": 318
        },
        "outputId": "37a46eb3-c5fd-42a3-a472-a0cf59df876e"
      },
      "source": [
        "sns.distplot(CS['Sample 1'])\n",
        "plt.title(\"Histograma da amostra 1\")"
      ],
      "execution_count": 19,
      "outputs": [
        {
          "output_type": "execute_result",
          "data": {
            "text/plain": [
              "Text(0.5, 1.0, 'Histograma da amostra 1')"
            ]
          },
          "metadata": {
            "tags": []
          },
          "execution_count": 19
        },
        {
          "output_type": "display_data",
          "data": {
            "image/png": "[encoded data removed]",
            "text/plain": [
              "<Figure size 432x288 with 1 Axes>"
            ]
          },
          "metadata": {
            "tags": []
          }
        }
      ]
    },
    {
      "cell_type": "code",
      "metadata": {
        "id": "-DDLVJGHgoJK",
        "colab_type": "code",
        "colab": {
          "base_uri": "https://localhost:8080/",
          "height": 318
        },
        "outputId": "3a4f4374-18f0-4a98-c4dd-59f3dc1b566a"
      },
      "source": [
        "plt.subplot(1,2,1)\n",
        "sns.distplot(CS['Sample 1'])\n",
        "plt.title(\"Histograma da amostra 1\")\n",
        "plt.subplot(1,2,2)\n",
        "sns.distplot(CS['Sample 2'])\n",
        "plt.title(\"Histograma da amostra 2\")"
      ],
      "execution_count": 20,
      "outputs": [
        {
          "output_type": "execute_result",
          "data": {
            "text/plain": [
              "Text(0.5, 1.0, 'Histograma da amostra 2')"
            ]
          },
          "metadata": {
            "tags": []
          },
          "execution_count": 20
        },
        {
          "output_type": "display_data",
          "data": {
            "image/png": "[encoded data removed]",
            "text/plain": [
              "<Figure size 432x288 with 2 Axes>"
            ]
          },
          "metadata": {
            "tags": []
          }
        }
      ]
    },
    {
      "cell_type": "code",
      "metadata": {
        "id": "wPlVBo0MgoJN",
        "colab_type": "code",
        "colab": {
          "base_uri": "https://localhost:8080/",
          "height": 427
        },
        "outputId": "7891b24e-edcc-492a-a9ff-3517f19eade1"
      },
      "source": [
        "plt.figure(figsize=(20,6))\n",
        "plt.subplot(1,2,1)\n",
        "sns.distplot(CS['Sample 1'])\n",
        "plt.title(\"Histograma da amostra 1\")\n",
        "plt.subplot(1,2,2)\n",
        "sns.distplot(CS['Sample 2'])\n",
        "plt.title(\"Histograma da amostra 2\")"
      ],
      "execution_count": 21,
      "outputs": [
        {
          "output_type": "execute_result",
          "data": {
            "text/plain": [
              "Text(0.5, 1.0, 'Histograma da amostra 2')"
            ]
          },
          "metadata": {
            "tags": []
          },
          "execution_count": 21
        },
        {
          "output_type": "display_data",
          "data": {
            "image/png": "[encoded data removed]",
            "text/plain": [
              "<Figure size 1440x432 with 2 Axes>"
            ]
          },
          "metadata": {
            "tags": []
          }
        }
      ]
    },
    {
      "cell_type": "markdown",
      "metadata": {
        "id": "QY_0c-w6goJS",
        "colab_type": "text"
      },
      "source": [
        "## Histogramas do Matplotlib (Básico)"
      ]
    },
    {
      "cell_type": "code",
      "metadata": {
        "id": "kHrUYIVGgoJT",
        "colab_type": "code",
        "colab": {
          "base_uri": "https://localhost:8080/",
          "height": 285
        },
        "outputId": "9b41ce5b-d602-4883-e2da-dae47e421009"
      },
      "source": [
        "CS['Sample 1'].hist()"
      ],
      "execution_count": 22,
      "outputs": [
        {
          "output_type": "execute_result",
          "data": {
            "text/plain": [
              "<matplotlib.axes._subplots.AxesSubplot at 0x7f4948d4bef0>"
            ]
          },
          "metadata": {
            "tags": []
          },
          "execution_count": 22
        },
        {
          "output_type": "display_data",
          "data": {
            "image/png": "[encoded data removed]",
            "text/plain": [
              "<Figure size 432x288 with 1 Axes>"
            ]
          },
          "metadata": {
            "tags": []
          }
        }
      ]
    },
    {
      "cell_type": "code",
      "metadata": {
        "id": "XDuCo-SBgoJX",
        "colab_type": "code",
        "colab": {
          "base_uri": "https://localhost:8080/",
          "height": 285
        },
        "outputId": "78f2d447-7d6c-4821-f3f6-fb770f170998"
      },
      "source": [
        "CS['Sample 2'].hist()"
      ],
      "execution_count": 23,
      "outputs": [
        {
          "output_type": "execute_result",
          "data": {
            "text/plain": [
              "<matplotlib.axes._subplots.AxesSubplot at 0x7f4948cdd128>"
            ]
          },
          "metadata": {
            "tags": []
          },
          "execution_count": 23
        },
        {
          "output_type": "display_data",
          "data": {
            "image/png": "[encoded data removed]",
            "text/plain": [
              "<Figure size 432x288 with 1 Axes>"
            ]
          },
          "metadata": {
            "tags": []
          }
        }
      ]
    },
    {
      "cell_type": "code",
      "metadata": {
        "id": "6bIESRhmgoJc",
        "colab_type": "code",
        "colab": {
          "base_uri": "https://localhost:8080/",
          "height": 348
        },
        "outputId": "c53520e9-2f00-47a0-c0e7-d23e636da756"
      },
      "source": [
        "CS['Sample 1'].hist(by=CS['Group']) # Separado pela coluna \"Group\""
      ],
      "execution_count": 24,
      "outputs": [
        {
          "output_type": "execute_result",
          "data": {
            "text/plain": [
              "array([<matplotlib.axes._subplots.AxesSubplot object at 0x7f4948c5fd30>,\n",
              "       <matplotlib.axes._subplots.AxesSubplot object at 0x7f4948c0ad30>],\n",
              "      dtype=object)"
            ]
          },
          "metadata": {
            "tags": []
          },
          "execution_count": 24
        },
        {
          "output_type": "display_data",
          "data": {
            "image/png": "[encoded data removed]",
            "text/plain": [
              "<Figure size 432x288 with 2 Axes>"
            ]
          },
          "metadata": {
            "tags": []
          }
        }
      ]
    },
    {
      "cell_type": "code",
      "metadata": {
        "id": "EJSKqsszgoJf",
        "colab_type": "code",
        "colab": {
          "base_uri": "https://localhost:8080/",
          "height": 344
        },
        "outputId": "1e620e9a-aacd-40af-ba9a-cad5ad0b190d"
      },
      "source": [
        "CS['Sample 2'].hist(by=CS['Group'])"
      ],
      "execution_count": 25,
      "outputs": [
        {
          "output_type": "execute_result",
          "data": {
            "text/plain": [
              "array([<matplotlib.axes._subplots.AxesSubplot object at 0x7f4948b564a8>,\n",
              "       <matplotlib.axes._subplots.AxesSubplot object at 0x7f4948b77860>],\n",
              "      dtype=object)"
            ]
          },
          "metadata": {
            "tags": []
          },
          "execution_count": 25
        },
        {
          "output_type": "display_data",
          "data": {
            "image/png": "[encoded data removed]",
            "text/plain": [
              "<Figure size 432x288 with 2 Axes>"
            ]
          },
          "metadata": {
            "tags": []
          }
        }
      ]
    },
    {
      "cell_type": "markdown",
      "metadata": {
        "id": "802c2xNGgoJj",
        "colab_type": "text"
      },
      "source": [
        "# Computando intervalos de confiança\n",
        "\n",
        "## Intervalo de confiança para a média"
      ]
    },
    {
      "cell_type": "code",
      "metadata": {
        "id": "NHIGa7nggoJj",
        "colab_type": "code",
        "colab": {}
      },
      "source": [
        "CS1 = CS[['Sample 1']]"
      ],
      "execution_count": 26,
      "outputs": []
    },
    {
      "cell_type": "code",
      "metadata": {
        "id": "hOaOX3nngoJm",
        "colab_type": "code",
        "colab": {
          "base_uri": "https://localhost:8080/",
          "height": 204
        },
        "outputId": "7ad4f7df-8830-4b23-efa8-402e4bc37ddc"
      },
      "source": [
        "CS1.head()"
      ],
      "execution_count": 27,
      "outputs": [
        {
          "output_type": "execute_result",
          "data": {
            "text/html": [
              "<div>\n",
              "<style scoped>\n",
              "    .dataframe tbody tr th:only-of-type {\n",
              "        vertical-align: middle;\n",
              "    }\n",
              "\n",
              "    .dataframe tbody tr th {\n",
              "        vertical-align: top;\n",
              "    }\n",
              "\n",
              "    .dataframe thead th {\n",
              "        text-align: right;\n",
              "    }\n",
              "</style>\n",
              "<table border=\"1\" class=\"dataframe\">\n",
              "  <thead>\n",
              "    <tr style=\"text-align: right;\">\n",
              "      <th></th>\n",
              "      <th>Sample 1</th>\n",
              "    </tr>\n",
              "  </thead>\n",
              "  <tbody>\n",
              "    <tr>\n",
              "      <th>0</th>\n",
              "      <td>28.686942</td>\n",
              "    </tr>\n",
              "    <tr>\n",
              "      <th>1</th>\n",
              "      <td>30.811276</td>\n",
              "    </tr>\n",
              "    <tr>\n",
              "      <th>2</th>\n",
              "      <td>28.477675</td>\n",
              "    </tr>\n",
              "    <tr>\n",
              "      <th>3</th>\n",
              "      <td>31.689752</td>\n",
              "    </tr>\n",
              "    <tr>\n",
              "      <th>4</th>\n",
              "      <td>31.132768</td>\n",
              "    </tr>\n",
              "  </tbody>\n",
              "</table>\n",
              "</div>"
            ],
            "text/plain": [
              "    Sample 1\n",
              "0  28.686942\n",
              "1  30.811276\n",
              "2  28.477675\n",
              "3  31.689752\n",
              "4  31.132768"
            ]
          },
          "metadata": {
            "tags": []
          },
          "execution_count": 27
        }
      ]
    },
    {
      "cell_type": "code",
      "metadata": {
        "id": "NjUX-jomgoJp",
        "colab_type": "code",
        "colab": {
          "base_uri": "https://localhost:8080/",
          "height": 34
        },
        "outputId": "0dd09264-2b0a-44e5-ada5-e21e84a642c8"
      },
      "source": [
        "st.norm.interval(0.95, loc = np.mean(CS1), scale = st.sem(CS1)) # para construir um intervalo de confiança para a média"
      ],
      "execution_count": 28,
      "outputs": [
        {
          "output_type": "execute_result",
          "data": {
            "text/plain": [
              "(array([29.94752379]), array([30.07663049]))"
            ]
          },
          "metadata": {
            "tags": []
          },
          "execution_count": 28
        }
      ]
    },
    {
      "cell_type": "code",
      "metadata": {
        "id": "b_U17vEogoJw",
        "colab_type": "code",
        "colab": {
          "base_uri": "https://localhost:8080/",
          "height": 51
        },
        "outputId": "2b789244-9268-4f1f-9ce7-f20440c29ef6"
      },
      "source": [
        "np.mean(CS1)"
      ],
      "execution_count": 29,
      "outputs": [
        {
          "output_type": "execute_result",
          "data": {
            "text/plain": [
              "Sample 1    30.012077\n",
              "dtype: float64"
            ]
          },
          "metadata": {
            "tags": []
          },
          "execution_count": 29
        }
      ]
    },
    {
      "cell_type": "markdown",
      "metadata": {
        "id": "mmGbhvp2goJ1",
        "colab_type": "text"
      },
      "source": [
        "Então: o intervalo de confiança é de 29,95 a 30,08.\n",
        "A média é de 30,01."
      ]
    },
    {
      "cell_type": "markdown",
      "metadata": {
        "id": "9dT87dQtgoJ1",
        "colab_type": "text"
      },
      "source": [
        "## Intervalo de confiança para o desvio padrão"
      ]
    },
    {
      "cell_type": "code",
      "metadata": {
        "id": "5QC4QpFUgoJ2",
        "colab_type": "code",
        "colab": {
          "base_uri": "https://localhost:8080/",
          "height": 34
        },
        "outputId": "fed8632a-681e-4930-c294-5c529dbd179b"
      },
      "source": [
        "st.norm.interval(0.95, loc = np.std(CS1), scale = st.sem(CS1)) # para construir um intervalo de confiança para o desvio padrão"
      ],
      "execution_count": 30,
      "outputs": [
        {
          "output_type": "execute_result",
          "data": {
            "text/plain": [
              "(array([0.97645313]), array([1.10555982]))"
            ]
          },
          "metadata": {
            "tags": []
          },
          "execution_count": 30
        }
      ]
    },
    {
      "cell_type": "code",
      "metadata": {
        "id": "21nhk_hGgoJ6",
        "colab_type": "code",
        "colab": {
          "base_uri": "https://localhost:8080/",
          "height": 51
        },
        "outputId": "7a12e3da-9fd9-41b2-dd64-6b990b0095ad"
      },
      "source": [
        "np.std(CS1)"
      ],
      "execution_count": 31,
      "outputs": [
        {
          "output_type": "execute_result",
          "data": {
            "text/plain": [
              "Sample 1    1.041006\n",
              "dtype: float64"
            ]
          },
          "metadata": {
            "tags": []
          },
          "execution_count": 31
        }
      ]
    },
    {
      "cell_type": "markdown",
      "metadata": {
        "id": "exPnLbB-goJ-",
        "colab_type": "text"
      },
      "source": [
        "Então: o intervalo de confiança é de 0,976 a 1,106. O desvio padrão é de 1,041."
      ]
    },
    {
      "cell_type": "code",
      "metadata": {
        "id": "ORnUZIT9goJ_",
        "colab_type": "code",
        "colab": {}
      },
      "source": [
        ""
      ],
      "execution_count": 31,
      "outputs": []
    },
    {
      "cell_type": "markdown",
      "metadata": {
        "id": "xJE8H2zjgoKC",
        "colab_type": "text"
      },
      "source": [
        "# Processando um teste de normalidade\n",
        "\n",
        "Teste de Normalidade de Anderson-Darling\n",
        "\n",
        "Para determinar se os dados não seguem uma distribuição normal, compare o valor de p com o nível de significância. Geralmente, um nível de significância (denotado como α ou alfa) de 0,05 funciona bem. Um nível de significância de 0,05 indica um risco de 5% de concluir que os dados não seguem a distribuição normal quando eles realmente a seguem.\n",
        "- **Valor de p ≤ α: Os dados não seguem uma distribuição normal (Rejeite H0)**:\n",
        "se o valor de p for menor ou igual ao nível de significância, você deve rejeitar a hipótese nula e concluir que os seus dados não seguem a distribuição normal.\n",
        "- **Valor de p > α: Não é possível concluir que os dados não seguem uma distribuição normal (não deve rejeitar H0)**:\n",
        "se o valor de p for maior do que o nível de significância, você não deve rejeitar a hipótese nula. Não há evidências suficientes para concluir que os dados não seguem uma distribuição normal.\n",
        "\n",
        "## Regra de decisão:\n",
        "\n",
        "- Se p-valor < 0,05 os dados **não são normais**;\n",
        "- Se p-valor >= 0,05 então os dados **são aproximadamente normais**."
      ]
    },
    {
      "cell_type": "code",
      "metadata": {
        "id": "Q9HC76xKgoKD",
        "colab_type": "code",
        "colab": {}
      },
      "source": [
        "NR = pd.read_excel(\"https://github.com/julianovale/lean_6_sigma_python/blob/master/normality.xlsx?raw=true\")"
      ],
      "execution_count": 34,
      "outputs": []
    },
    {
      "cell_type": "code",
      "metadata": {
        "id": "LIlB3GJ5goKG",
        "colab_type": "code",
        "colab": {
          "base_uri": "https://localhost:8080/",
          "height": 204
        },
        "outputId": "a76158e7-89ae-4c16-c956-553090629191"
      },
      "source": [
        "NR.head()"
      ],
      "execution_count": 35,
      "outputs": [
        {
          "output_type": "execute_result",
          "data": {
            "text/html": [
              "<div>\n",
              "<style scoped>\n",
              "    .dataframe tbody tr th:only-of-type {\n",
              "        vertical-align: middle;\n",
              "    }\n",
              "\n",
              "    .dataframe tbody tr th {\n",
              "        vertical-align: top;\n",
              "    }\n",
              "\n",
              "    .dataframe thead th {\n",
              "        text-align: right;\n",
              "    }\n",
              "</style>\n",
              "<table border=\"1\" class=\"dataframe\">\n",
              "  <thead>\n",
              "    <tr style=\"text-align: right;\">\n",
              "      <th></th>\n",
              "      <th>Normal</th>\n",
              "      <th>NonNormal</th>\n",
              "    </tr>\n",
              "  </thead>\n",
              "  <tbody>\n",
              "    <tr>\n",
              "      <th>0</th>\n",
              "      <td>28.686942</td>\n",
              "      <td>0.627870</td>\n",
              "    </tr>\n",
              "    <tr>\n",
              "      <th>1</th>\n",
              "      <td>30.811276</td>\n",
              "      <td>50.558054</td>\n",
              "    </tr>\n",
              "    <tr>\n",
              "      <th>2</th>\n",
              "      <td>28.477675</td>\n",
              "      <td>54.593256</td>\n",
              "    </tr>\n",
              "    <tr>\n",
              "      <th>3</th>\n",
              "      <td>31.689752</td>\n",
              "      <td>19.613195</td>\n",
              "    </tr>\n",
              "    <tr>\n",
              "      <th>4</th>\n",
              "      <td>31.132768</td>\n",
              "      <td>48.658675</td>\n",
              "    </tr>\n",
              "  </tbody>\n",
              "</table>\n",
              "</div>"
            ],
            "text/plain": [
              "      Normal  NonNormal\n",
              "0  28.686942   0.627870\n",
              "1  30.811276  50.558054\n",
              "2  28.477675  54.593256\n",
              "3  31.689752  19.613195\n",
              "4  31.132768  48.658675"
            ]
          },
          "metadata": {
            "tags": []
          },
          "execution_count": 35
        }
      ]
    },
    {
      "cell_type": "code",
      "metadata": {
        "id": "iwUJhl-bgoKJ",
        "colab_type": "code",
        "colab": {
          "base_uri": "https://localhost:8080/",
          "height": 34
        },
        "outputId": "2bb41a5d-2cad-43cf-bb18-d4d21624f059"
      },
      "source": [
        "NR.shape"
      ],
      "execution_count": 36,
      "outputs": [
        {
          "output_type": "execute_result",
          "data": {
            "text/plain": [
              "(1000, 2)"
            ]
          },
          "metadata": {
            "tags": []
          },
          "execution_count": 36
        }
      ]
    },
    {
      "cell_type": "code",
      "metadata": {
        "id": "6Vtro2TlgoKN",
        "colab_type": "code",
        "colab": {
          "base_uri": "https://localhost:8080/",
          "height": 34
        },
        "outputId": "6a5cca7d-a500-45ba-e8f3-8616f25b1986"
      },
      "source": [
        "st.normaltest(NR['Normal'])"
      ],
      "execution_count": 37,
      "outputs": [
        {
          "output_type": "execute_result",
          "data": {
            "text/plain": [
              "NormaltestResult(statistic=0.579757721125647, pvalue=0.7483542172965185)"
            ]
          },
          "metadata": {
            "tags": []
          },
          "execution_count": 37
        }
      ]
    },
    {
      "cell_type": "code",
      "metadata": {
        "id": "YubluJAcgoKQ",
        "colab_type": "code",
        "colab": {
          "base_uri": "https://localhost:8080/",
          "height": 34
        },
        "outputId": "70052086-e281-4254-bffe-8a7cc8b3b793"
      },
      "source": [
        "st.normaltest(NR['Normal']).pvalue"
      ],
      "execution_count": 38,
      "outputs": [
        {
          "output_type": "execute_result",
          "data": {
            "text/plain": [
              "0.7483542172965185"
            ]
          },
          "metadata": {
            "tags": []
          },
          "execution_count": 38
        }
      ]
    },
    {
      "cell_type": "code",
      "metadata": {
        "id": "jCLc8vyZgoKT",
        "colab_type": "code",
        "colab": {
          "base_uri": "https://localhost:8080/",
          "height": 34
        },
        "outputId": "7d74c8b2-2afd-4ed5-fc3a-485e6a38e72f"
      },
      "source": [
        "st.normaltest(NR['NonNormal'])"
      ],
      "execution_count": 39,
      "outputs": [
        {
          "output_type": "execute_result",
          "data": {
            "text/plain": [
              "NormaltestResult(statistic=340.28111619613065, pvalue=1.2849743839690619e-74)"
            ]
          },
          "metadata": {
            "tags": []
          },
          "execution_count": 39
        }
      ]
    },
    {
      "cell_type": "code",
      "metadata": {
        "id": "DT9rV7WPgoKY",
        "colab_type": "code",
        "colab": {
          "base_uri": "https://localhost:8080/",
          "height": 34
        },
        "outputId": "ab5e1aec-fc58-4e27-a546-2c5615ced3f1"
      },
      "source": [
        "st.normaltest(NR['NonNormal']).pvalue"
      ],
      "execution_count": 40,
      "outputs": [
        {
          "output_type": "execute_result",
          "data": {
            "text/plain": [
              "1.2849743839690619e-74"
            ]
          },
          "metadata": {
            "tags": []
          },
          "execution_count": 40
        }
      ]
    },
    {
      "cell_type": "markdown",
      "metadata": {
        "id": "Yb-FYlaAgoKe",
        "colab_type": "text"
      },
      "source": [
        "Então pode-se concluir que:\n",
        "- a amostra **Normal** é normal; e,\n",
        "- a amostra **NonNormal** não é normal."
      ]
    },
    {
      "cell_type": "markdown",
      "metadata": {
        "id": "aQON1CoJgoKf",
        "colab_type": "text"
      },
      "source": [
        "## Obtendo o coeficiente de ajuste de Anderson-Darling (AD)\n",
        "\n",
        "### AD\n",
        "A estatística do teste de qualidade de ajuste de Anderson-Darling (AD) é uma medida dos desvios entre a linha ajustada (com base na distribuição selecionada) e a função da etapa não paramétrica (com base nos pontos de dados). A estatística Anderson-Darling é uma distância ao quadrado que é ponderada mais pesadamente nas caudas da distribuição.\n",
        "\n",
        "#### Interpretação\n",
        "A estatística de Anderson-Darling é usada para calcular o valor de p. O valor de p é uma probabilidade que mede a evidência contra a hipótese nula de que os dados seguem a distribuição.\n",
        "\n",
        "Geralmente, os **valores substancialmente menores para a estatística de Anderson-Darling indicam que os dados seguem uma distribuição mais de próxima**. No entanto, evite comparar diretamente os valores de AD em diferentes distribuições quando os valores de AD estão próximos, porque as estatísticas AD são distribuídos de forma diferente para diferentes distribuições. Para comparar melhor o ajuste de diferentes distribuições, use critérios adicionais, como gráficos de probabilidade, valores de p e seu conhecimento do processo."
      ]
    },
    {
      "cell_type": "code",
      "metadata": {
        "id": "9V_9BbrdgoKf",
        "colab_type": "code",
        "colab": {}
      },
      "source": [
        "from scipy.stats import anderson"
      ],
      "execution_count": 41,
      "outputs": []
    },
    {
      "cell_type": "code",
      "metadata": {
        "id": "BgyqJNlTgoKj",
        "colab_type": "code",
        "colab": {
          "base_uri": "https://localhost:8080/",
          "height": 34
        },
        "outputId": "1675db42-59ed-4b00-dba8-7c6e4451b01a"
      },
      "source": [
        "anderson(NR['Normal']).statistic"
      ],
      "execution_count": 42,
      "outputs": [
        {
          "output_type": "execute_result",
          "data": {
            "text/plain": [
              "0.268501119607663"
            ]
          },
          "metadata": {
            "tags": []
          },
          "execution_count": 42
        }
      ]
    },
    {
      "cell_type": "code",
      "metadata": {
        "id": "jHxNQpIIgoKm",
        "colab_type": "code",
        "colab": {
          "base_uri": "https://localhost:8080/",
          "height": 34
        },
        "outputId": "c7944814-d722-4629-9fa1-659fb84e5468"
      },
      "source": [
        "anderson(NR['NonNormal']).statistic"
      ],
      "execution_count": 43,
      "outputs": [
        {
          "output_type": "execute_result",
          "data": {
            "text/plain": [
              "42.6290170976381"
            ]
          },
          "metadata": {
            "tags": []
          },
          "execution_count": 43
        }
      ]
    },
    {
      "cell_type": "markdown",
      "metadata": {
        "id": "KFngpP45goKq",
        "colab_type": "text"
      },
      "source": [
        "## Criando o gráfico de ajuste à distribuição normal"
      ]
    },
    {
      "cell_type": "code",
      "metadata": {
        "id": "_1GmlyVigoKs",
        "colab_type": "code",
        "colab": {}
      },
      "source": [
        "from statsmodels.graphics.gofplots import qqplot"
      ],
      "execution_count": 44,
      "outputs": []
    },
    {
      "cell_type": "code",
      "metadata": {
        "id": "0Pr7ExoLgoKy",
        "colab_type": "code",
        "colab": {
          "base_uri": "https://localhost:8080/",
          "height": 285
        },
        "outputId": "d5c06c05-affd-4db9-ee61-77e6aa0e973f"
      },
      "source": [
        "qqplot(NR['Normal'], line = 's')\n",
        "plt.show()"
      ],
      "execution_count": 45,
      "outputs": [
        {
          "output_type": "display_data",
          "data": {
            "image/png": "[encoded data removed]",
            "text/plain": [
              "<Figure size 432x288 with 1 Axes>"
            ]
          },
          "metadata": {
            "tags": []
          }
        }
      ]
    },
    {
      "cell_type": "code",
      "metadata": {
        "id": "BneKI58ygoK3",
        "colab_type": "code",
        "colab": {
          "base_uri": "https://localhost:8080/",
          "height": 170
        },
        "outputId": "2b756631-1522-4742-e661-0099f78d51c6"
      },
      "source": [
        "NR['Normal'].describe()"
      ],
      "execution_count": 46,
      "outputs": [
        {
          "output_type": "execute_result",
          "data": {
            "text/plain": [
              "count    1000.000000\n",
              "mean       30.012077\n",
              "std         1.041527\n",
              "min        26.160543\n",
              "25%        29.314089\n",
              "50%        30.014408\n",
              "75%        30.730071\n",
              "max        33.757718\n",
              "Name: Normal, dtype: float64"
            ]
          },
          "metadata": {
            "tags": []
          },
          "execution_count": 46
        }
      ]
    },
    {
      "cell_type": "code",
      "metadata": {
        "id": "v2nmdxUngoK7",
        "colab_type": "code",
        "colab": {
          "base_uri": "https://localhost:8080/",
          "height": 285
        },
        "outputId": "e22b3598-5d13-41c6-e5ab-89f7d56a9994"
      },
      "source": [
        "qqplot(NR['NonNormal'], line = 's')\n",
        "plt.show()"
      ],
      "execution_count": 47,
      "outputs": [
        {
          "output_type": "display_data",
          "data": {
            "image/png": "[encoded data removed]",
            "text/plain": [
              "<Figure size 432x288 with 1 Axes>"
            ]
          },
          "metadata": {
            "tags": []
          }
        }
      ]
    },
    {
      "cell_type": "code",
      "metadata": {
        "id": "OcCdseK6goK_",
        "colab_type": "code",
        "colab": {
          "base_uri": "https://localhost:8080/",
          "height": 170
        },
        "outputId": "a153fded-a48e-4841-ca68-0c4f24409714"
      },
      "source": [
        "NR['NonNormal'].describe()"
      ],
      "execution_count": 48,
      "outputs": [
        {
          "output_type": "execute_result",
          "data": {
            "text/plain": [
              "count    1000.000000\n",
              "mean       30.233962\n",
              "std        29.067057\n",
              "min         0.154764\n",
              "25%         8.721795\n",
              "50%        20.740185\n",
              "75%        43.013396\n",
              "max       194.102611\n",
              "Name: NonNormal, dtype: float64"
            ]
          },
          "metadata": {
            "tags": []
          },
          "execution_count": 48
        }
      ]
    },
    {
      "cell_type": "code",
      "metadata": {
        "id": "EazLZVTKgoLG",
        "colab_type": "code",
        "colab": {}
      },
      "source": [
        ""
      ],
      "execution_count": 48,
      "outputs": []
    }
  ]
}