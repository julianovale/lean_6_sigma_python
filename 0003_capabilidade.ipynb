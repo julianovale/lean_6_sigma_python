{
  "nbformat": 4,
  "nbformat_minor": 0,
  "metadata": {
    "kernelspec": {
      "display_name": "Python 3",
      "language": "python",
      "name": "python3"
    },
    "language_info": {
      "codemirror_mode": {
        "name": "ipython",
        "version": 3
      },
      "file_extension": ".py",
      "mimetype": "text/x-python",
      "name": "python",
      "nbconvert_exporter": "python",
      "pygments_lexer": "ipython3",
      "version": "3.7.6"
    },
    "colab": {
      "name": "0003_capabilidade.ipynb",
      "provenance": [],
      "collapsed_sections": [],
      "include_colab_link": true
    }
  },
  "cells": [
    {
      "cell_type": "markdown",
      "metadata": {
        "id": "view-in-github",
        "colab_type": "text"
      },
      "source": [
        "<a href=\"https://colab.research.google.com/github/julianovale/lean_6_sigma_python/blob/master/0003_capabilidade.ipynb\" target=\"_parent\"><img src=\"https://colab.research.google.com/assets/colab-badge.svg\" alt=\"Open In Colab\"/></a>"
      ]
    },
    {
      "cell_type": "markdown",
      "metadata": {
        "id": "_Olixd0Hluce",
        "colab_type": "text"
      },
      "source": [
        "# Análise de capabilidade do processo"
      ]
    },
    {
      "cell_type": "code",
      "metadata": {
        "id": "It1aHWzylucg",
        "colab_type": "code",
        "colab": {}
      },
      "source": [
        "import numpy as np\n",
        "import pandas as pd\n",
        "import matplotlib.pyplot as plt\n",
        "%matplotlib inline\n",
        "import seaborn as sns\n",
        "\n",
        "sns.set(color_codes = True)"
      ],
      "execution_count": 20,
      "outputs": []
    },
    {
      "cell_type": "code",
      "metadata": {
        "id": "MZikzs7xluck",
        "colab_type": "code",
        "colab": {}
      },
      "source": [
        "capa = pd.read_excel(\"https://github.com/julianovale/lean_6_sigma_python/blob/master/capa.xlsx?raw=true\")"
      ],
      "execution_count": 2,
      "outputs": []
    },
    {
      "cell_type": "code",
      "metadata": {
        "id": "fmcvzs_0lucp",
        "colab_type": "code",
        "colab": {
          "base_uri": "https://localhost:8080/",
          "height": 204
        },
        "outputId": "d1ac3a0c-1528-40e4-b3e7-5c21fc877771"
      },
      "source": [
        "capa.head()"
      ],
      "execution_count": 3,
      "outputs": [
        {
          "output_type": "execute_result",
          "data": {
            "text/html": [
              "<div>\n",
              "<style scoped>\n",
              "    .dataframe tbody tr th:only-of-type {\n",
              "        vertical-align: middle;\n",
              "    }\n",
              "\n",
              "    .dataframe tbody tr th {\n",
              "        vertical-align: top;\n",
              "    }\n",
              "\n",
              "    .dataframe thead th {\n",
              "        text-align: right;\n",
              "    }\n",
              "</style>\n",
              "<table border=\"1\" class=\"dataframe\">\n",
              "  <thead>\n",
              "    <tr style=\"text-align: right;\">\n",
              "      <th></th>\n",
              "      <th>Parameter</th>\n",
              "      <th>USL</th>\n",
              "      <th>LSL</th>\n",
              "    </tr>\n",
              "  </thead>\n",
              "  <tbody>\n",
              "    <tr>\n",
              "      <th>0</th>\n",
              "      <td>44.974</td>\n",
              "      <td>45.0</td>\n",
              "      <td>44.5</td>\n",
              "    </tr>\n",
              "    <tr>\n",
              "      <th>1</th>\n",
              "      <td>45.066</td>\n",
              "      <td>NaN</td>\n",
              "      <td>NaN</td>\n",
              "    </tr>\n",
              "    <tr>\n",
              "      <th>2</th>\n",
              "      <td>44.944</td>\n",
              "      <td>NaN</td>\n",
              "      <td>NaN</td>\n",
              "    </tr>\n",
              "    <tr>\n",
              "      <th>3</th>\n",
              "      <td>45.088</td>\n",
              "      <td>NaN</td>\n",
              "      <td>NaN</td>\n",
              "    </tr>\n",
              "    <tr>\n",
              "      <th>4</th>\n",
              "      <td>44.951</td>\n",
              "      <td>NaN</td>\n",
              "      <td>NaN</td>\n",
              "    </tr>\n",
              "  </tbody>\n",
              "</table>\n",
              "</div>"
            ],
            "text/plain": [
              "   Parameter   USL   LSL\n",
              "0     44.974  45.0  44.5\n",
              "1     45.066   NaN   NaN\n",
              "2     44.944   NaN   NaN\n",
              "3     45.088   NaN   NaN\n",
              "4     44.951   NaN   NaN"
            ]
          },
          "metadata": {
            "tags": []
          },
          "execution_count": 3
        }
      ]
    },
    {
      "cell_type": "code",
      "metadata": {
        "id": "6y-Dp5qolucv",
        "colab_type": "code",
        "colab": {}
      },
      "source": [
        "LSE = 45 # limite superior da especificação\n",
        "LIE = 44.5 # limite inferior da especificação"
      ],
      "execution_count": 4,
      "outputs": []
    },
    {
      "cell_type": "code",
      "metadata": {
        "id": "tgQI4yaxlucz",
        "colab_type": "code",
        "colab": {
          "base_uri": "https://localhost:8080/",
          "height": 302
        },
        "outputId": "0443e991-db55-4f8d-c9d1-9303515ed5cf"
      },
      "source": [
        "sns.distplot(capa.Parameter, hist = False)\n",
        "plt.axvline(x=LSE)\n",
        "plt.axvline(x=LIE)"
      ],
      "execution_count": 21,
      "outputs": [
        {
          "output_type": "execute_result",
          "data": {
            "text/plain": [
              "<matplotlib.lines.Line2D at 0x7efd95834ef0>"
            ]
          },
          "metadata": {
            "tags": []
          },
          "execution_count": 21
        },
        {
          "output_type": "display_data",
          "data": {
            "image/png": "[encoded data removed]",
            "text/plain": [
              "<Figure size 432x288 with 1 Axes>"
            ]
          },
          "metadata": {
            "tags": []
          }
        }
      ]
    },
    {
      "cell_type": "code",
      "metadata": {
        "id": "N4P4II1cluc3",
        "colab_type": "code",
        "colab": {
          "base_uri": "https://localhost:8080/",
          "height": 302
        },
        "outputId": "aece7f2b-7272-4f02-c1ee-fdffd016c8d8"
      },
      "source": [
        "sns.distplot(capa.Parameter, color = 'b')\n",
        "plt.axvline(x=LSE, ls = \"--\", linewidth = 1, color = 'r')\n",
        "plt.axvline(x=LIE, ls = \"--\", linewidth = 1, color = 'r')"
      ],
      "execution_count": 22,
      "outputs": [
        {
          "output_type": "execute_result",
          "data": {
            "text/plain": [
              "<matplotlib.lines.Line2D at 0x7efd957a7400>"
            ]
          },
          "metadata": {
            "tags": []
          },
          "execution_count": 22
        },
        {
          "output_type": "display_data",
          "data": {
            "image/png": "[encoded data removed]",
            "text/plain": [
              "<Figure size 432x288 with 1 Axes>"
            ]
          },
          "metadata": {
            "tags": []
          }
        }
      ]
    },
    {
      "cell_type": "markdown",
      "metadata": {
        "id": "44KYFl53luc-",
        "colab_type": "text"
      },
      "source": [
        "## Calculando o score sigma\n"
      ]
    },
    {
      "cell_type": "code",
      "metadata": {
        "id": "1gEGA6j8luc_",
        "colab_type": "code",
        "colab": {
          "base_uri": "https://localhost:8080/",
          "height": 297
        },
        "outputId": "51f8f695-772b-4523-a5f2-52e96bd6356c"
      },
      "source": [
        "capa.describe()"
      ],
      "execution_count": 7,
      "outputs": [
        {
          "output_type": "execute_result",
          "data": {
            "text/html": [
              "<div>\n",
              "<style scoped>\n",
              "    .dataframe tbody tr th:only-of-type {\n",
              "        vertical-align: middle;\n",
              "    }\n",
              "\n",
              "    .dataframe tbody tr th {\n",
              "        vertical-align: top;\n",
              "    }\n",
              "\n",
              "    .dataframe thead th {\n",
              "        text-align: right;\n",
              "    }\n",
              "</style>\n",
              "<table border=\"1\" class=\"dataframe\">\n",
              "  <thead>\n",
              "    <tr style=\"text-align: right;\">\n",
              "      <th></th>\n",
              "      <th>Parameter</th>\n",
              "      <th>USL</th>\n",
              "      <th>LSL</th>\n",
              "    </tr>\n",
              "  </thead>\n",
              "  <tbody>\n",
              "    <tr>\n",
              "      <th>count</th>\n",
              "      <td>90.000000</td>\n",
              "      <td>1.0</td>\n",
              "      <td>1.0</td>\n",
              "    </tr>\n",
              "    <tr>\n",
              "      <th>mean</th>\n",
              "      <td>45.006567</td>\n",
              "      <td>45.0</td>\n",
              "      <td>44.5</td>\n",
              "    </tr>\n",
              "    <tr>\n",
              "      <th>std</th>\n",
              "      <td>0.053430</td>\n",
              "      <td>NaN</td>\n",
              "      <td>NaN</td>\n",
              "    </tr>\n",
              "    <tr>\n",
              "      <th>min</th>\n",
              "      <td>44.892000</td>\n",
              "      <td>45.0</td>\n",
              "      <td>44.5</td>\n",
              "    </tr>\n",
              "    <tr>\n",
              "      <th>25%</th>\n",
              "      <td>44.974750</td>\n",
              "      <td>45.0</td>\n",
              "      <td>44.5</td>\n",
              "    </tr>\n",
              "    <tr>\n",
              "      <th>50%</th>\n",
              "      <td>45.011000</td>\n",
              "      <td>45.0</td>\n",
              "      <td>44.5</td>\n",
              "    </tr>\n",
              "    <tr>\n",
              "      <th>75%</th>\n",
              "      <td>45.042250</td>\n",
              "      <td>45.0</td>\n",
              "      <td>44.5</td>\n",
              "    </tr>\n",
              "    <tr>\n",
              "      <th>max</th>\n",
              "      <td>45.163000</td>\n",
              "      <td>45.0</td>\n",
              "      <td>44.5</td>\n",
              "    </tr>\n",
              "  </tbody>\n",
              "</table>\n",
              "</div>"
            ],
            "text/plain": [
              "       Parameter   USL   LSL\n",
              "count  90.000000   1.0   1.0\n",
              "mean   45.006567  45.0  44.5\n",
              "std     0.053430   NaN   NaN\n",
              "min    44.892000  45.0  44.5\n",
              "25%    44.974750  45.0  44.5\n",
              "50%    45.011000  45.0  44.5\n",
              "75%    45.042250  45.0  44.5\n",
              "max    45.163000  45.0  44.5"
            ]
          },
          "metadata": {
            "tags": []
          },
          "execution_count": 7
        }
      ]
    },
    {
      "cell_type": "code",
      "metadata": {
        "id": "u5Ubt1iDludE",
        "colab_type": "code",
        "colab": {
          "base_uri": "https://localhost:8080/",
          "height": 34
        },
        "outputId": "99e5b2c9-39f3-41f1-d36a-ea3ea45c35e0"
      },
      "source": [
        "Cp = (LSE-LIE)/(6*capa.Parameter.std())\n",
        "Cp"
      ],
      "execution_count": 8,
      "outputs": [
        {
          "output_type": "execute_result",
          "data": {
            "text/plain": [
              "1.5596607419996131"
            ]
          },
          "metadata": {
            "tags": []
          },
          "execution_count": 8
        }
      ]
    },
    {
      "cell_type": "code",
      "metadata": {
        "id": "thGPxCGjludI",
        "colab_type": "code",
        "colab": {
          "base_uri": "https://localhost:8080/",
          "height": 34
        },
        "outputId": "ef499830-df0e-4a08-e0e6-01dc2f29637b"
      },
      "source": [
        "Cps = (LSE-capa.Parameter.mean())/(3*capa.Parameter.std())\n",
        "Cps"
      ],
      "execution_count": 9,
      "outputs": [
        {
          "output_type": "execute_result",
          "data": {
            "text/plain": [
              "-0.04096708882317563"
            ]
          },
          "metadata": {
            "tags": []
          },
          "execution_count": 9
        }
      ]
    },
    {
      "cell_type": "code",
      "metadata": {
        "id": "mB3PQ4QdludN",
        "colab_type": "code",
        "colab": {
          "base_uri": "https://localhost:8080/",
          "height": 34
        },
        "outputId": "14eb1721-3835-4da7-8b22-509e3f83a3ae"
      },
      "source": [
        "Cpi = (capa.Parameter.mean()-LIE)/(3*capa.Parameter.std())\n",
        "Cpi"
      ],
      "execution_count": 10,
      "outputs": [
        {
          "output_type": "execute_result",
          "data": {
            "text/plain": [
              "3.160288572822402"
            ]
          },
          "metadata": {
            "tags": []
          },
          "execution_count": 10
        }
      ]
    },
    {
      "cell_type": "code",
      "metadata": {
        "id": "1ujTjfJ9ludR",
        "colab_type": "code",
        "colab": {
          "base_uri": "https://localhost:8080/",
          "height": 34
        },
        "outputId": "005935a1-6098-4d6b-c961-44e89859b3d8"
      },
      "source": [
        "Cpk = min(Cps, Cpi)\n",
        "Cpk"
      ],
      "execution_count": 11,
      "outputs": [
        {
          "output_type": "execute_result",
          "data": {
            "text/plain": [
              "-0.04096708882317563"
            ]
          },
          "metadata": {
            "tags": []
          },
          "execution_count": 11
        }
      ]
    },
    {
      "cell_type": "markdown",
      "metadata": {
        "id": "FH1G1qSgludV",
        "colab_type": "text"
      },
      "source": [
        "## Interpretação\n",
        "- Cp e Cpk < 1,33: O processo está num índice inadequado, necessitando de inspeção 100%\n",
        "- Cp >= 1,33 e Cpk < 1,33: O processo está em um índice satisfatório, aplicando inspeção por amostragem\n",
        "- Cp e Cpk >= 1,33: O processo está em um índice bastante satisfatório, não necessitando inspeção"
      ]
    },
    {
      "cell_type": "markdown",
      "metadata": {
        "id": "T9YGUp3sludW",
        "colab_type": "text"
      },
      "source": [
        "# Outro exemplo:\n",
        "- Notas de 40 alunos numa matéria na universidade"
      ]
    },
    {
      "cell_type": "code",
      "metadata": {
        "id": "AqqLKTHpludX",
        "colab_type": "code",
        "colab": {}
      },
      "source": [
        "capa1 = pd.read_excel(\"https://github.com/julianovale/lean_6_sigma_python/blob/master/notas.xlsx?raw=true\")"
      ],
      "execution_count": 12,
      "outputs": []
    },
    {
      "cell_type": "code",
      "metadata": {
        "id": "M8F0iXBiluda",
        "colab_type": "code",
        "colab": {
          "base_uri": "https://localhost:8080/",
          "height": 204
        },
        "outputId": "c3d82ceb-8620-4bcf-b23f-be6792da53f5"
      },
      "source": [
        "capa1.head()"
      ],
      "execution_count": 13,
      "outputs": [
        {
          "output_type": "execute_result",
          "data": {
            "text/html": [
              "<div>\n",
              "<style scoped>\n",
              "    .dataframe tbody tr th:only-of-type {\n",
              "        vertical-align: middle;\n",
              "    }\n",
              "\n",
              "    .dataframe tbody tr th {\n",
              "        vertical-align: top;\n",
              "    }\n",
              "\n",
              "    .dataframe thead th {\n",
              "        text-align: right;\n",
              "    }\n",
              "</style>\n",
              "<table border=\"1\" class=\"dataframe\">\n",
              "  <thead>\n",
              "    <tr style=\"text-align: right;\">\n",
              "      <th></th>\n",
              "      <th>notas</th>\n",
              "    </tr>\n",
              "  </thead>\n",
              "  <tbody>\n",
              "    <tr>\n",
              "      <th>0</th>\n",
              "      <td>7.7</td>\n",
              "    </tr>\n",
              "    <tr>\n",
              "      <th>1</th>\n",
              "      <td>2.6</td>\n",
              "    </tr>\n",
              "    <tr>\n",
              "      <th>2</th>\n",
              "      <td>5.2</td>\n",
              "    </tr>\n",
              "    <tr>\n",
              "      <th>3</th>\n",
              "      <td>5.7</td>\n",
              "    </tr>\n",
              "    <tr>\n",
              "      <th>4</th>\n",
              "      <td>8.8</td>\n",
              "    </tr>\n",
              "  </tbody>\n",
              "</table>\n",
              "</div>"
            ],
            "text/plain": [
              "   notas\n",
              "0    7.7\n",
              "1    2.6\n",
              "2    5.2\n",
              "3    5.7\n",
              "4    8.8"
            ]
          },
          "metadata": {
            "tags": []
          },
          "execution_count": 13
        }
      ]
    },
    {
      "cell_type": "code",
      "metadata": {
        "id": "TWfkiMLzlude",
        "colab_type": "code",
        "colab": {}
      },
      "source": [
        "LSE1 = 10 # limite superior da especificação\n",
        "LIE1 = 4.99 # limite inferior da especificação"
      ],
      "execution_count": 14,
      "outputs": []
    },
    {
      "cell_type": "code",
      "metadata": {
        "id": "XGGPMTbHludj",
        "colab_type": "code",
        "colab": {
          "base_uri": "https://localhost:8080/",
          "height": 302
        },
        "outputId": "12d5839a-7f8d-49c5-c38b-2df6296ab930"
      },
      "source": [
        "sns.distplot(capa1.notas, color = 'b')\n",
        "plt.axvline(x=LSE1, ls = \"--\", linewidth = 1, color = 'r')\n",
        "plt.axvline(x=LIE1, ls = \"--\", linewidth = 1, color = 'r')"
      ],
      "execution_count": 23,
      "outputs": [
        {
          "output_type": "execute_result",
          "data": {
            "text/plain": [
              "<matplotlib.lines.Line2D at 0x7efd95727f98>"
            ]
          },
          "metadata": {
            "tags": []
          },
          "execution_count": 23
        },
        {
          "output_type": "display_data",
          "data": {
            "image/png": "[encoded data removed]",
            "text/plain": [
              "<Figure size 432x288 with 1 Axes>"
            ]
          },
          "metadata": {
            "tags": []
          }
        }
      ]
    },
    {
      "cell_type": "code",
      "metadata": {
        "id": "hjVOyMe7ludn",
        "colab_type": "code",
        "colab": {
          "base_uri": "https://localhost:8080/",
          "height": 34
        },
        "outputId": "8e401899-5afc-4823-951b-928fa96cfd5c"
      },
      "source": [
        "Cp1 = (LSE1-LIE1)/(6*capa1.notas.std())\n",
        "Cp1"
      ],
      "execution_count": 16,
      "outputs": [
        {
          "output_type": "execute_result",
          "data": {
            "text/plain": [
              "0.578127975320664"
            ]
          },
          "metadata": {
            "tags": []
          },
          "execution_count": 16
        }
      ]
    },
    {
      "cell_type": "code",
      "metadata": {
        "id": "PNvlNdpXludu",
        "colab_type": "code",
        "colab": {
          "base_uri": "https://localhost:8080/",
          "height": 34
        },
        "outputId": "09448d9d-2361-4c40-e53d-02ef2d847e15"
      },
      "source": [
        "Cps1 = (LSE1-capa1.notas.mean())/(3*capa1.notas.std())\n",
        "Cps1"
      ],
      "execution_count": 17,
      "outputs": [
        {
          "output_type": "execute_result",
          "data": {
            "text/plain": [
              "0.8562294564629394"
            ]
          },
          "metadata": {
            "tags": []
          },
          "execution_count": 17
        }
      ]
    },
    {
      "cell_type": "code",
      "metadata": {
        "id": "Qh4UFBBjludx",
        "colab_type": "code",
        "colab": {
          "base_uri": "https://localhost:8080/",
          "height": 34
        },
        "outputId": "a86f7ab9-897d-4238-9c0d-a1d7a2519e4b"
      },
      "source": [
        "Cpi1 = (capa1.notas.mean()-LIE1)/(3*capa1.notas.std())\n",
        "Cpi1"
      ],
      "execution_count": 18,
      "outputs": [
        {
          "output_type": "execute_result",
          "data": {
            "text/plain": [
              "0.30002649417838845"
            ]
          },
          "metadata": {
            "tags": []
          },
          "execution_count": 18
        }
      ]
    },
    {
      "cell_type": "code",
      "metadata": {
        "id": "qzaGJLmslud1",
        "colab_type": "code",
        "colab": {
          "base_uri": "https://localhost:8080/",
          "height": 34
        },
        "outputId": "c076cf0b-6c98-4791-9603-64f273fd5f20"
      },
      "source": [
        "Cpk1 = min(Cps1, Cpi1)\n",
        "Cpk1"
      ],
      "execution_count": 19,
      "outputs": [
        {
          "output_type": "execute_result",
          "data": {
            "text/plain": [
              "0.30002649417838845"
            ]
          },
          "metadata": {
            "tags": []
          },
          "execution_count": 19
        }
      ]
    },
    {
      "cell_type": "markdown",
      "metadata": {
        "id": "6xnqA8t8lud4",
        "colab_type": "text"
      },
      "source": [
        "### Resultado e interpretação\n",
        "- Cp e Cpk menores que 1,33, o processo necessita ser melhorado"
      ]
    }
  ]
}